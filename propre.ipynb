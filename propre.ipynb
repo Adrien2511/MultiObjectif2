{
 "cells": [
  {
   "cell_type": "code",
   "execution_count": 1,
   "metadata": {
    "collapsed": true
   },
   "outputs": [
    {
     "ename": "FileNotFoundError",
     "evalue": "[Errno 2] No such file or directory: 'LAP-8-2objSOL.dat'",
     "output_type": "error",
     "traceback": [
      "\u001B[1;31m---------------------------------------------------------------------------\u001B[0m",
      "\u001B[1;31mFileNotFoundError\u001B[0m                         Traceback (most recent call last)",
      "\u001B[1;32m~\\AppData\\Local\\Temp\\ipykernel_46232\\2488930028.py\u001B[0m in \u001B[0;36m<module>\u001B[1;34m\u001B[0m\n\u001B[0;32m      4\u001B[0m \u001B[0mnumberObjectif\u001B[0m\u001B[1;33m=\u001B[0m\u001B[1;36m2\u001B[0m \u001B[1;31m#nombre d'objectifs\u001B[0m\u001B[1;33m\u001B[0m\u001B[1;33m\u001B[0m\u001B[0m\n\u001B[0;32m      5\u001B[0m \u001B[1;31m#lecture\u001B[0m\u001B[1;33m\u001B[0m\u001B[1;33m\u001B[0m\u001B[0m\n\u001B[1;32m----> 6\u001B[1;33m \u001B[1;32mwith\u001B[0m \u001B[0mopen\u001B[0m\u001B[1;33m(\u001B[0m\u001B[1;34m'LAP-8-2objSOL.dat'\u001B[0m\u001B[1;33m)\u001B[0m \u001B[1;32mas\u001B[0m \u001B[0mf\u001B[0m\u001B[1;33m:\u001B[0m\u001B[1;33m\u001B[0m\u001B[1;33m\u001B[0m\u001B[0m\n\u001B[0m\u001B[0;32m      7\u001B[0m     \u001B[0msize\u001B[0m \u001B[1;33m=\u001B[0m \u001B[0mint\u001B[0m\u001B[1;33m(\u001B[0m\u001B[0mf\u001B[0m\u001B[1;33m.\u001B[0m\u001B[0mreadline\u001B[0m\u001B[1;33m(\u001B[0m\u001B[1;33m)\u001B[0m\u001B[1;33m)\u001B[0m \u001B[1;31m#taille de la matrice\u001B[0m\u001B[1;33m\u001B[0m\u001B[1;33m\u001B[0m\u001B[0m\n\u001B[0;32m      8\u001B[0m     \u001B[0malldata\u001B[0m \u001B[1;33m=\u001B[0m \u001B[1;33m[\u001B[0m\u001B[1;33m]\u001B[0m \u001B[1;31m#toute les données des objectifs\u001B[0m\u001B[1;33m\u001B[0m\u001B[1;33m\u001B[0m\u001B[0m\n",
      "\u001B[1;31mFileNotFoundError\u001B[0m: [Errno 2] No such file or directory: 'LAP-8-2objSOL.dat'"
     ]
    }
   ],
   "source": [
    "import numpy as np\n",
    "import random\n",
    "\n",
    "numberObjectif=2 #nombre d'objectifs\n",
    "#lecture\n",
    "with open('LAP-8-2objSOL.dat') as f:\n",
    "    size = int(f.readline()) #taille de la matrice\n",
    "    alldata = [] #toute les données des objectifs\n",
    "    for k in range(numberObjectif):\n",
    "        data = []\n",
    "        for i in range(size):\n",
    "            data.append(f.readline())\n",
    "        for i in range(len(data)):\n",
    "            data[i]=data[i].strip('\\n').split()\n",
    "            for j in range(len(data[i])):\n",
    "                data[i][j]=int(data[i][j])\n",
    "        alldata.append(data)\n",
    "\n"
   ]
  },
  {
   "cell_type": "code",
   "execution_count": null,
   "outputs": [],
   "source": [
    "#création des solutions initiale (diagonale)\n",
    "solutionDiagonal = np.zeros((size,size))\n",
    "for i in range(len(solutionDiagonal)):\n",
    "    solutionDiagonal[i][i]=1\n",
    "\n",
    "#création de solution diagonal inverse\n",
    "solutionDiagonalInverse = np.flip(solutionDiagonal,0)\n",
    "print(solutionDiagonalInverse)\n",
    "#création d'une matrice alétoire\n",
    "li=[]\n",
    "for i in range(size):\n",
    "    li.append(i)\n",
    "se=set(li)\n",
    "li=list(se)\n",
    "ordre = random.sample(li,len(li))\n",
    "solutionrandom = np.zeros((size,size))\n",
    "for i in range(len(solutionrandom)):\n",
    "    solutionrandom[i][ordre[i]]=1\n",
    "\n",
    "allSolution = [] #vecteur avec tout les solutions\n",
    "allSolution.append(solutionDiagonal)\n",
    "allSolution.append(solutionDiagonalInverse)\n",
    "allSolution.append(solutionrandom)\n",
    "\n",
    "####  regarder domination\n",
    "#### créer plus de alétoire\n",
    "#### ajouter toutes les solutions dans un vecteur de solution\n"
   ],
   "metadata": {
    "collapsed": false
   }
  },
  {
   "cell_type": "code",
   "execution_count": null,
   "outputs": [],
   "source": [
    "#calcul du résultat\n",
    "def calculSolution(alldata,solution):\n",
    "\n",
    "    allResult =[] # vecteur de tout les résultat pour chaque solution et chaque objectif\n",
    "    for  l in range(len(solution)):\n",
    "        vecResult = []\n",
    "        for k in range(len(alldata)):\n",
    "            result = 0\n",
    "            for i in range(len(solution[l])):\n",
    "                for j in range(len(solution[l][i])):\n",
    "                    result = result+ solution[l][i][j]*alldata[k][i][j]\n",
    "            vecResult.append(result)\n",
    "        allResult.append(vecResult)\n",
    "    return allResult\n",
    "\n",
    "newResult = calculSolution(alldata,allSolution)\n",
    "allResult = newResult.copy()\n",
    "print(newResult)\n"
   ],
   "metadata": {
    "collapsed": false
   }
  },
  {
   "cell_type": "code",
   "execution_count": null,
   "outputs": [],
   "source": [
    "#création des voisins\n",
    "def createVoisin(allSolution,size):\n",
    "    newMatriceSolution=[]\n",
    "    a = random.randint(0,size-1)\n",
    "    b = random.randint(0,size-1)\n",
    "\n",
    "    #échanger 2 ligne de façon aléatoire\n",
    "    for i in range(len(allSolution)):\n",
    "\n",
    "        new  = allSolution[i].copy()\n",
    "        new[[b,a]] = new[[a,b]]\n",
    "        newMatriceSolution.append(new)\n",
    "\n",
    "    #regarder la ligne la plus couteuse pour un objectif et inverser cette ligne avec les autres\n",
    "\n",
    "    #décaler toute les lignes\n",
    "\n",
    "\n",
    "    return newMatriceSolution\n",
    "\n",
    "newMatriceSolution = createVoisin(allSolution,size) # obtenir un vecteur avec les voisins des solutions\n"
   ],
   "metadata": {
    "collapsed": false
   }
  },
  {
   "cell_type": "code",
   "execution_count": null,
   "outputs": [],
   "source": [
    "def update(newResult,newMatriceSolution ,allResult,allMatriceSolution):  #ici newResult représente un resultat et non tout le vecteur de nouveau resultat\n",
    "    globalCount=0\n",
    "    vecpop= []\n",
    "\n",
    "    for i in range(len(allResult)):\n",
    "        countPetit=0 # conteur de plus petit pour chaque objectif (old < new)\n",
    "        countGrand=0 #conteur de plus grand plur chaque onjectif  (old > new)\n",
    "        for j in range(len(allResult[i])):\n",
    "            if(allResult[i][j]< newResult[j]):\n",
    "                countPetit+=1\n",
    "            if(allResult[i][j]>newResult[j]):\n",
    "                countGrand+=1\n",
    "\n",
    "        if(countPetit==len(newResult)):\n",
    "            break # stop car la nouvelle solution se fait dominer\n",
    "        if(countGrand==len(newResult)):\n",
    "            #allResult.pop(i)\n",
    "            vecpop.append(i) # enregistre l'élément qui se fait dominer\n",
    "\n",
    "            #allResult.append(newResult)\n",
    "\n",
    "\n",
    "\n",
    "        globalCount +=1\n",
    "\n",
    "    decalage = 0\n",
    "\n",
    "    for i in range(len(vecpop)):\n",
    "\n",
    "        allResult.pop(vecpop[i]-decalage)  #supression de l'élément\n",
    "        allMatriceSolution.pop(vecpop[i]-decalage) #supression de l'élément\n",
    "        decalage = decalage +1\n",
    "    if(globalCount -len(vecpop) == len(allResult)):\n",
    "        allResult.append(newResult)\n",
    "        #maodifier\n",
    "        allMatriceSolution.append(newMatriceSolution)\n",
    "\n",
    "\n",
    "\n",
    "update(newResult[0], newMatriceSolution[0],allResult,allSolution)"
   ],
   "metadata": {
    "collapsed": false
   }
  },
  {
   "cell_type": "code",
   "execution_count": null,
   "outputs": [],
   "source": [],
   "metadata": {
    "collapsed": false
   }
  }
 ],
 "metadata": {
  "kernelspec": {
   "display_name": "Python 3",
   "language": "python",
   "name": "python3"
  },
  "language_info": {
   "codemirror_mode": {
    "name": "ipython",
    "version": 2
   },
   "file_extension": ".py",
   "mimetype": "text/x-python",
   "name": "python",
   "nbconvert_exporter": "python",
   "pygments_lexer": "ipython2",
   "version": "2.7.6"
  }
 },
 "nbformat": 4,
 "nbformat_minor": 0
}
