{
 "cells": [
  {
   "cell_type": "code",
   "execution_count": 19,
   "metadata": {
    "collapsed": true
   },
   "outputs": [
    {
     "name": "stdout",
     "output_type": "stream",
     "text": [
      "[ 1,  6,  5,  2,  5, 10,  3,  6]\n",
      "[ 7,  8,  9,  2,  7,  2,  9,  2]\n",
      "[ 7, 10,  3, 10,  3,  6,  3,  2]\n",
      "[ 9,  6,  5,  2,  7,  6,  3,  2]\n",
      "[ 3,  6,  1,  6,  3, 10,  5,  6]\n",
      "[ 7, 10,  5,  4,  5,  2,  3,  6]\n",
      "[ 5,  8,  3,  8,  7,  8,  9,  6]\n",
      "[ 3,  4,  1,  6,  5,  6,  7,  4]\n",
      "[(0, 0), (1, 3), (2, 7), (3, 6), (4, 4), (5, 5), (6, 2), (7, 1)]\n",
      "[[1. 0. 0. 0. 0. 0. 0. 0.]\n",
      " [0. 0. 0. 1. 0. 0. 0. 0.]\n",
      " [0. 0. 0. 0. 0. 0. 0. 1.]\n",
      " [0. 0. 0. 0. 0. 0. 1. 0.]\n",
      " [0. 0. 0. 0. 1. 0. 0. 0.]\n",
      " [0. 0. 0. 0. 0. 1. 0. 0.]\n",
      " [0. 0. 1. 0. 0. 0. 0. 0.]\n",
      " [0. 1. 0. 0. 0. 0. 0. 0.]]\n",
      "coût= 80\n"
     ]
    }
   ],
   "source": [
    "import numpy as np\n",
    "import random\n",
    "from munkres import Munkres, print_matrix\n",
    "\n",
    "numberObjectif=2 #nombre d'objectifs\n",
    "#lecture\n",
    "with open('LAP-8-2objSOL.dat') as f:\n",
    "    size = int(f.readline()) #taille de la matrice\n",
    "    alldata = [] #toute les données des objectifs\n",
    "    for k in range(numberObjectif):\n",
    "        data = []\n",
    "        for i in range(size):\n",
    "            data.append(f.readline())\n",
    "        for i in range(len(data)):\n",
    "            data[i]=data[i].strip('\\n').split()\n",
    "            for j in range(len(data[i])):\n",
    "                data[i][j]=int(data[i][j])\n",
    "        alldata.append(data)\n",
    "matrix = alldata[1]\n",
    "print_matrix(alldata[0])\n",
    "m = Munkres()\n",
    "indexes = m.compute(alldata[0])\n",
    "print(indexes)\n",
    "test = np.zeros((8,8))\n",
    "for i in indexes:\n",
    "    test[i[0],i[1]]=1\n",
    "print(test)\n",
    "print ('coût=', sum([matrix[i[0]][i[1]] for i in indexes]))"
   ]
  },
  {
   "cell_type": "code",
   "execution_count": 15,
   "outputs": [],
   "source": [],
   "metadata": {
    "collapsed": false
   }
  },
  {
   "cell_type": "code",
   "execution_count": 15,
   "outputs": [],
   "source": [],
   "metadata": {
    "collapsed": false
   }
  }
 ],
 "metadata": {
  "kernelspec": {
   "display_name": "Python 3",
   "language": "python",
   "name": "python3"
  },
  "language_info": {
   "codemirror_mode": {
    "name": "ipython",
    "version": 2
   },
   "file_extension": ".py",
   "mimetype": "text/x-python",
   "name": "python",
   "nbconvert_exporter": "python",
   "pygments_lexer": "ipython2",
   "version": "2.7.6"
  }
 },
 "nbformat": 4,
 "nbformat_minor": 0
}
